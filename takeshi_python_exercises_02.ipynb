{
  "nbformat": 4,
  "nbformat_minor": 0,
  "metadata": {
    "colab": {
      "name": "takeshi_python_exercises_02.ipynb",
      "provenance": [],
      "include_colab_link": true
    },
    "kernelspec": {
      "name": "python3",
      "display_name": "Python 3"
    }
  },
  "cells": [
    {
      "cell_type": "markdown",
      "metadata": {
        "id": "view-in-github",
        "colab_type": "text"
      },
      "source": [
        "<a href=\"https://colab.research.google.com/github/tiagotakeshi/br-python-condensed/blob/main/takeshi_python_exercises_02.ipynb\" target=\"_parent\"><img src=\"https://colab.research.google.com/assets/colab-badge.svg\" alt=\"Open In Colab\"/></a>"
      ]
    },
    {
      "cell_type": "markdown",
      "metadata": {
        "id": "8YqaSZgXYJ5g"
      },
      "source": [
        "![](https://i.imgur.com/YX6UATs.png)\n"
      ]
    },
    {
      "cell_type": "markdown",
      "metadata": {
        "id": "hhUVzDipaGb9"
      },
      "source": [
        "### **Exercícios de Python - 2** \n",
        "\n",
        "\n",
        "\n"
      ]
    },
    {
      "cell_type": "markdown",
      "metadata": {
        "id": "c62cM2VlKFqN"
      },
      "source": [
        "1 - Faça um programa que leia um nome de usuário e a sua senha e não aceite a senha igual ao nome do usuário, mostrando uma mensagem de erro."
      ]
    },
    {
      "cell_type": "code",
      "metadata": {
        "id": "A3ajzaOSq69B",
        "colab": {
          "base_uri": "https://localhost:8080/"
        },
        "outputId": "4e54dd60-1a18-45af-b1b9-5407096b6029"
      },
      "source": [
        "user = input('Informe o nome de usuário desejado: ')\n",
        "pswd = input('Informe a senha desejada: ')\n",
        "if pswd == user:\n",
        "  print('Senha inválida')\n",
        "else:\n",
        "  print('Cadastro realizado com sucesso')"
      ],
      "execution_count": null,
      "outputs": [
        {
          "output_type": "stream",
          "text": [
            "Informe o nome de usuário desejado: tiago\n",
            "Informe a senha desejada: tiago\n",
            "Senha inválida\n"
          ],
          "name": "stdout"
        }
      ]
    },
    {
      "cell_type": "markdown",
      "metadata": {
        "id": "qMGp-h8OaGqr"
      },
      "source": [
        "2 - Utilizando listas faça um programa que faça 5 perguntas para uma pessoa sobre um crime. As perguntas são:\n",
        "- \"Telefonou para a vítima?\"\n",
        "- \"Esteve no local do crime?\"\n",
        "- \"Mora perto da vítima?\"\n",
        "- \"Devia para a vítima?\"\n",
        "- \"Já trabalhou com a vítima?\" \\\n",
        "O programa deve no final emitir uma classificação sobre a participação da pessoa no crime. Se a pessoa responder positivamente a 2 questões ela deve ser classificada como \"Suspeita\", entre 3 e 4 como \"Cúmplice\" e 5 como \"Assassino\". Caso contrário, ele será classificado como \"Inocente\"."
      ]
    },
    {
      "cell_type": "code",
      "metadata": {
        "id": "kTg-D89NdCld",
        "colab": {
          "base_uri": "https://localhost:8080/"
        },
        "outputId": "63e8115b-d7c8-47bf-a9ad-ebdd53dd6af0"
      },
      "source": [
        "perguntas = ['Telefonou para a vítima?', 'Esteve no local do crime?', 'Mora perto da vítima?', 'Devia para a vítima?', 'Já trabalhou para a vítima?']\n",
        "x = 0\n",
        "for i in perguntas:\n",
        "  resp = input(i)\n",
        "  if resp == 'sim':\n",
        "    x+=1\n",
        "\n",
        "if (x != 0) and (x != 1):\n",
        "  if x == 2:\n",
        "    cls = 'Suspeita'\n",
        "  elif (x == 3) or (x == 4):\n",
        "    cls = 'Cúmplice'\n",
        "  else:\n",
        "    cls = 'Assassina'\n",
        "else:\n",
        "  cls = 'Inocente'\n",
        "print(f'O pessoa é {cls}')\n"
      ],
      "execution_count": null,
      "outputs": [
        {
          "output_type": "stream",
          "text": [
            "Telefonou para a vítima?n\n",
            "Esteve no local do crime?n\n",
            "Mora perto da vítima?n\n",
            "Devia para a vítima?n\n",
            "Já trabalhou para a vítima?n\n",
            "O pessoa é Inocente\n"
          ],
          "name": "stdout"
        }
      ]
    },
    {
      "cell_type": "markdown",
      "metadata": {
        "id": "FTK9nE4pdB1D"
      },
      "source": [
        "3 - A lista abaixo possui nomes de alunos de uma classe. Crie um loop que imprima '{nome} é aluno da classe'\n"
      ]
    },
    {
      "cell_type": "code",
      "metadata": {
        "id": "zom01dbblQ_V"
      },
      "source": [
        ""
      ],
      "execution_count": null,
      "outputs": []
    },
    {
      "cell_type": "code",
      "metadata": {
        "id": "nW4SbDxTmx4t"
      },
      "source": [
        "alunos = ['Maria','João','Marcelo','Jonas','Laura','Luana']"
      ],
      "execution_count": null,
      "outputs": []
    },
    {
      "cell_type": "code",
      "metadata": {
        "id": "0sRr8MXCpbGP",
        "colab": {
          "base_uri": "https://localhost:8080/"
        },
        "outputId": "926c099d-7a42-41c4-e60b-b90a775bf8ef"
      },
      "source": [
        "for i in alunos:\n",
        "  print(f'{i} é aluno da class')"
      ],
      "execution_count": null,
      "outputs": [
        {
          "output_type": "stream",
          "text": [
            "Maria é aluno da class\n",
            "João é aluno da class\n",
            "Marcelo é aluno da class\n",
            "Jonas é aluno da class\n",
            "Laura é aluno da class\n",
            "Luana é aluno da class\n"
          ],
          "name": "stdout"
        }
      ]
    },
    {
      "cell_type": "markdown",
      "metadata": {
        "id": "_HbJNv8MaG4g"
      },
      "source": [
        "4 - Utilizando-se da mesma lista trabalhada acima e a lista dada abaixo, que contem as idades dos alunos, realize um loop que faça a iteração com as duas listas printando \"{nome} tem {idade} anos\".\n",
        "Dica: utilize *zip*()"
      ]
    },
    {
      "cell_type": "code",
      "metadata": {
        "id": "LJDxmAbJeO9V"
      },
      "source": [
        "idades = [23,34,42,54,26,27]"
      ],
      "execution_count": null,
      "outputs": []
    },
    {
      "cell_type": "code",
      "metadata": {
        "id": "nd-kvnAjrg47",
        "colab": {
          "base_uri": "https://localhost:8080/"
        },
        "outputId": "f2b24c6e-2266-4e61-d069-a2bbec3475a0"
      },
      "source": [
        "len(alunos)"
      ],
      "execution_count": null,
      "outputs": [
        {
          "output_type": "execute_result",
          "data": {
            "text/plain": [
              "6"
            ]
          },
          "metadata": {
            "tags": []
          },
          "execution_count": 37
        }
      ]
    },
    {
      "cell_type": "code",
      "metadata": {
        "id": "sCClltYdq0Pl",
        "colab": {
          "base_uri": "https://localhost:8080/"
        },
        "outputId": "d4f1d54a-e542-4f7a-9307-f60c178bcb86"
      },
      "source": [
        "for i in range(len(alunos)):\n",
        "  print(f'{alunos[i]} tem {idades[i]} anos')"
      ],
      "execution_count": null,
      "outputs": [
        {
          "output_type": "stream",
          "text": [
            "Maria tem 23 anos\n",
            "João tem 34 anos\n",
            "Marcelo tem 42 anos\n",
            "Jonas tem 54 anos\n",
            "Laura tem 26 anos\n",
            "Luana tem 27 anos\n"
          ],
          "name": "stdout"
        }
      ]
    },
    {
      "cell_type": "code",
      "metadata": {
        "id": "Kq1Lc7Ukps-V"
      },
      "source": [
        "x = zip(alunos, idades)"
      ],
      "execution_count": null,
      "outputs": []
    },
    {
      "cell_type": "markdown",
      "metadata": {
        "id": "0tkhm6EUaG1u"
      },
      "source": [
        "5 - Transforme as duas listas anteriores em um dicionário cuja chave é o nome e o valor é a idade."
      ]
    },
    {
      "cell_type": "code",
      "metadata": {
        "id": "CLHTIBQ5qYsO"
      },
      "source": [
        "chamada ={}\n",
        "for i in range(len(alunos)):\n",
        "  chamada[alunos[i]] = {}\n",
        "  chamada[alunos[i]]['valor'] = idades[i]"
      ],
      "execution_count": null,
      "outputs": []
    },
    {
      "cell_type": "code",
      "metadata": {
        "id": "MNINJ32eU45M",
        "colab": {
          "base_uri": "https://localhost:8080/"
        },
        "outputId": "81d538c7-5e0a-4a41-edfa-8d94e537bddd"
      },
      "source": [
        "chamada"
      ],
      "execution_count": null,
      "outputs": [
        {
          "output_type": "execute_result",
          "data": {
            "text/plain": [
              "{'Jonas': {'valor': 54},\n",
              " 'João': {'valor': 34},\n",
              " 'Laura': {'valor': 26},\n",
              " 'Luana': {'valor': 27},\n",
              " 'Marcelo': {'valor': 42},\n",
              " 'Maria': {'valor': 23}}"
            ]
          },
          "metadata": {
            "tags": []
          },
          "execution_count": 42
        }
      ]
    },
    {
      "cell_type": "markdown",
      "metadata": {
        "id": "Lm1tOKThnU42"
      },
      "source": [
        "Exercícios adaptados de Python Brasil"
      ]
    }
  ]
}