{
  "nbformat": 4,
  "nbformat_minor": 0,
  "metadata": {
    "colab": {
      "name": "takeshi_python_exercises_03.ipynb",
      "provenance": [],
      "collapsed_sections": [],
      "include_colab_link": true
    },
    "kernelspec": {
      "name": "python3",
      "display_name": "Python 3"
    }
  },
  "cells": [
    {
      "cell_type": "markdown",
      "metadata": {
        "id": "view-in-github",
        "colab_type": "text"
      },
      "source": [
        "<a href=\"https://colab.research.google.com/github/tiagotakeshi/br-python-condensed/blob/main/takeshi_python_exercises_03.ipynb\" target=\"_parent\"><img src=\"https://colab.research.google.com/assets/colab-badge.svg\" alt=\"Open In Colab\"/></a>"
      ]
    },
    {
      "cell_type": "markdown",
      "metadata": {
        "id": "8YqaSZgXYJ5g"
      },
      "source": [
        "![](https://i.imgur.com/YX6UATs.png)\n"
      ]
    },
    {
      "cell_type": "markdown",
      "metadata": {
        "id": "hhUVzDipaGb9"
      },
      "source": [
        "### **Exercícios de Python - 3** \n",
        "\n",
        "\n",
        "\n"
      ]
    },
    {
      "cell_type": "markdown",
      "metadata": {
        "id": "7O6AZt8-aGlr"
      },
      "source": [
        "1 - Classe Bola:\\\n",
        "Crie uma classe que modele uma bola:\n",
        "\n",
        "Atributos: Cor, material\\\n",
        "Métodos: trocaCor "
      ]
    },
    {
      "cell_type": "code",
      "metadata": {
        "id": "ibipMzmZcfIF"
      },
      "source": [
        "class Bola():\n",
        "  # atributos\n",
        "  def __init__(self, cor, material):\n",
        "    self.cor = cor\n",
        "    self.material = material\n",
        "\n",
        "  def trocarCor(self,nova_cor):\n",
        "    self.cor = nova_cor\n"
      ],
      "execution_count": null,
      "outputs": []
    },
    {
      "cell_type": "code",
      "metadata": {
        "id": "dqzCmTgw7weY"
      },
      "source": [
        "bolaPraia = Bola('amarela', 'borracha')"
      ],
      "execution_count": null,
      "outputs": []
    },
    {
      "cell_type": "code",
      "metadata": {
        "id": "AuBDtkfm7_W4"
      },
      "source": [
        "bolaPraia.trocarCor('azul')"
      ],
      "execution_count": null,
      "outputs": []
    },
    {
      "cell_type": "code",
      "metadata": {
        "id": "35Az0EIQ8HLG",
        "colab": {
          "base_uri": "https://localhost:8080/",
          "height": 36
        },
        "outputId": "bed6e0ee-06f5-476b-d1ec-9a855c0a66e2"
      },
      "source": [
        "bolaPraia.cor"
      ],
      "execution_count": null,
      "outputs": [
        {
          "output_type": "execute_result",
          "data": {
            "application/vnd.google.colaboratory.intrinsic+json": {
              "type": "string"
            },
            "text/plain": [
              "'azul'"
            ]
          },
          "metadata": {
            "tags": []
          },
          "execution_count": 7
        }
      ]
    },
    {
      "cell_type": "markdown",
      "metadata": {
        "id": "c62cM2VlKFqN"
      },
      "source": [
        "2 - Classe Quadrado: Crie uma classe que modele um quadrado:\n",
        "\n",
        "Atributos: Tamanho do lado\n",
        "Métodos: Mudar valor do Lado e calcular Área;"
      ]
    },
    {
      "cell_type": "code",
      "metadata": {
        "id": "M_5mNjNbKFMI"
      },
      "source": [
        "class Quadrado():\n",
        "  def __init__(self, lados):\n",
        "    self.lados = lados\n",
        "\n",
        "  def mudarLado(self,novo_lado):\n",
        "    self.lados = novo_lado\n",
        "\n",
        "  def calculoArea(self):\n",
        "    print(f'A área do quadrado vale: {self.lados**2} m²')"
      ],
      "execution_count": null,
      "outputs": []
    },
    {
      "cell_type": "code",
      "metadata": {
        "id": "_hrdOc1u8KZ_"
      },
      "source": [
        "quad1 = Quadrado(2)"
      ],
      "execution_count": null,
      "outputs": []
    },
    {
      "cell_type": "code",
      "metadata": {
        "id": "ltCkZHrE8d-d",
        "colab": {
          "base_uri": "https://localhost:8080/"
        },
        "outputId": "531587f3-a2e4-4943-cf84-050ad76a17ca"
      },
      "source": [
        "quad1.calculoArea()"
      ],
      "execution_count": null,
      "outputs": [
        {
          "output_type": "stream",
          "text": [
            "A área do quadrado vale: 4 m²\n"
          ],
          "name": "stdout"
        }
      ]
    },
    {
      "cell_type": "code",
      "metadata": {
        "id": "xzJh7Tv08Kcj"
      },
      "source": [
        "quad1.mudarLado(10)"
      ],
      "execution_count": null,
      "outputs": []
    },
    {
      "cell_type": "code",
      "metadata": {
        "id": "jxpEQpn08ddq",
        "colab": {
          "base_uri": "https://localhost:8080/"
        },
        "outputId": "713bc364-72c8-426b-f276-c7f65804c8d6"
      },
      "source": [
        "quad1.calculoArea()"
      ],
      "execution_count": null,
      "outputs": [
        {
          "output_type": "stream",
          "text": [
            "A área do quadrado vale: 100 m²\n"
          ],
          "name": "stdout"
        }
      ]
    },
    {
      "cell_type": "markdown",
      "metadata": {
        "id": "qMGp-h8OaGqr"
      },
      "source": [
        "3 - Classe funcionário \\\n",
        "Crie uma classe que crie funcionários de uma empresa.\\\n",
        "Atributos: Nome, Função, Salário. \\\n",
        "Métodos: aumento anual. O aumento anual deve ser de 10%.\\\n",
        "Crie dois objetos e dê um aument de 10% a um deles e um aumento de 20% ao outro."
      ]
    },
    {
      "cell_type": "code",
      "metadata": {
        "id": "3lzz274Thi0Y"
      },
      "source": [
        "class Funcionario():\n",
        "  def __init__(self,nome,funcao,salario):\n",
        "    self.nome = nome\n",
        "    self.funcao = funcao\n",
        "    self.salario = salario\n",
        "  \n",
        "  def aumentoAnual(self,taxa=0.1):\n",
        "    self.salario = self.salario + self.salario*taxa"
      ],
      "execution_count": null,
      "outputs": []
    },
    {
      "cell_type": "code",
      "metadata": {
        "id": "oGbaxP4v-MU2"
      },
      "source": [
        "joao = Funcionario('João', 'Pedreiro', 2000)"
      ],
      "execution_count": null,
      "outputs": []
    },
    {
      "cell_type": "code",
      "metadata": {
        "id": "yl7ot8bn-Mjq"
      },
      "source": [
        "pedro = Funcionario('Pedro', 'Marceneiro', 1800)"
      ],
      "execution_count": null,
      "outputs": []
    },
    {
      "cell_type": "code",
      "metadata": {
        "id": "L0Ln_FOc-gqw"
      },
      "source": [
        "joao.aumentoAnual()"
      ],
      "execution_count": null,
      "outputs": []
    },
    {
      "cell_type": "code",
      "metadata": {
        "id": "Zf6IrY2l-gt1"
      },
      "source": [
        "pedro.aumentoAnual(0.2)"
      ],
      "execution_count": null,
      "outputs": []
    },
    {
      "cell_type": "code",
      "metadata": {
        "id": "CekifJpX-gww",
        "colab": {
          "base_uri": "https://localhost:8080/"
        },
        "outputId": "7376e21d-e692-4074-effd-c4dc9bb77b35"
      },
      "source": [
        "joao.salario"
      ],
      "execution_count": null,
      "outputs": [
        {
          "output_type": "execute_result",
          "data": {
            "text/plain": [
              "2200.0"
            ]
          },
          "metadata": {
            "tags": []
          },
          "execution_count": 28
        }
      ]
    },
    {
      "cell_type": "code",
      "metadata": {
        "id": "yRl0s97M-hWq",
        "colab": {
          "base_uri": "https://localhost:8080/"
        },
        "outputId": "f3b2a363-abdb-4e11-8791-2487fb0341fc"
      },
      "source": [
        "pedro.salario"
      ],
      "execution_count": null,
      "outputs": [
        {
          "output_type": "execute_result",
          "data": {
            "text/plain": [
              "2160.0"
            ]
          },
          "metadata": {
            "tags": []
          },
          "execution_count": 29
        }
      ]
    },
    {
      "cell_type": "markdown",
      "metadata": {
        "id": "lCMWrvt3P4_x"
      },
      "source": [
        "04 - Utilizando a biblioteca Numpy, obtenha as médias, medianas e desvios padrão de altura, peso e IMC dos membros do dicionário a seguir:\\\n",
        "Trasforme os dicionários em um numpy array e utilize os métodos próprios dessa classe."
      ]
    },
    {
      "cell_type": "code",
      "metadata": {
        "id": "7OhZAs4P_3lv"
      },
      "source": [
        "import numpy as np"
      ],
      "execution_count": null,
      "outputs": []
    },
    {
      "cell_type": "code",
      "metadata": {
        "id": "l4qtSxU7XquB"
      },
      "source": [
        "clientes = {'Charlotte': {'altura': 1.56, 'imc': 21, 'peso': 52, 'sexo': 'F'},\n",
        " 'Claudia': {'altura': 1.56, 'imc': 25, 'peso': 62, 'sexo': 'F'},\n",
        " 'Jonas': {'altura': 1.56, 'imc': 21, 'peso': 52, 'sexo': 'M'},\n",
        " 'Martha': {'altura': 1.98, 'imc': 19, 'peso': 76, 'sexo': 'F'},\n",
        " 'Mikkel': {'altura': 1.56, 'imc': 28, 'peso': 67, 'sexo': 'M'},\n",
        " 'Ulrich': {'altura': 1.92, 'imc': 22, 'peso': 80, 'sexo': 'M'}}"
      ],
      "execution_count": null,
      "outputs": []
    },
    {
      "cell_type": "code",
      "metadata": {
        "id": "pZalpVMVBm08"
      },
      "source": [
        "alturas = []\n",
        "pesos = []\n",
        "imcs = []\n",
        "\n",
        "for i in clientes:\n",
        "    alturas.append(clientes[i]['altura'])\n",
        "    pesos.append(clientes[i]['peso'])\n",
        "    imcs.append(clientes[i]['imc'])"
      ],
      "execution_count": null,
      "outputs": []
    },
    {
      "cell_type": "code",
      "metadata": {
        "id": "Iaa6cfiRBxFt",
        "colab": {
          "base_uri": "https://localhost:8080/"
        },
        "outputId": "ffb4ec14-65fe-4e6b-98a0-9a969427130f"
      },
      "source": [
        "matriz = np.array([alturas,pesos,imcs]).T\n",
        "matriz"
      ],
      "execution_count": null,
      "outputs": [
        {
          "output_type": "execute_result",
          "data": {
            "text/plain": [
              "array([[ 1.56, 52.  , 21.  ],\n",
              "       [ 1.56, 62.  , 25.  ],\n",
              "       [ 1.56, 52.  , 21.  ],\n",
              "       [ 1.98, 76.  , 19.  ],\n",
              "       [ 1.56, 67.  , 28.  ],\n",
              "       [ 1.92, 80.  , 22.  ]])"
            ]
          },
          "metadata": {
            "tags": []
          },
          "execution_count": 36
        }
      ]
    },
    {
      "cell_type": "code",
      "metadata": {
        "id": "8meEoMtGB5Kv",
        "colab": {
          "base_uri": "https://localhost:8080/"
        },
        "outputId": "395238cf-64eb-451c-96d8-5206acb02d87"
      },
      "source": [
        "print(\"Média das alturas: \",matriz[:,0].mean())\n",
        "print(\"Desvio padrão das alturas: \",matriz[:,0].std())\n",
        "print(\"Mediana das alturas: \",np.median(matriz[:,0]))"
      ],
      "execution_count": null,
      "outputs": [
        {
          "output_type": "stream",
          "text": [
            "Média das alturas:  1.6900000000000002\n",
            "Desvio padrão das alturas:  0.18466185312619385\n",
            "Mediana das alturas:  1.56\n"
          ],
          "name": "stdout"
        }
      ]
    },
    {
      "cell_type": "code",
      "metadata": {
        "id": "OH99jo1gB5Nd",
        "colab": {
          "base_uri": "https://localhost:8080/"
        },
        "outputId": "c3bd030a-6822-4321-aded-94a22a78ac34"
      },
      "source": [
        "print(\"Média dos pesos: \",matriz[:,1].mean())\n",
        "print(\"Desvio padrão dos pesos: \",matriz[:,1].std())\n",
        "print(\"Mediana dos pesos: \",np.median(matriz[:,1]))"
      ],
      "execution_count": null,
      "outputs": [
        {
          "output_type": "stream",
          "text": [
            "Média dos pesos:  64.83333333333333\n",
            "Desvio padrão dos pesos:  10.77677544021814\n",
            "Mediana dos pesos:  64.5\n"
          ],
          "name": "stdout"
        }
      ]
    },
    {
      "cell_type": "code",
      "metadata": {
        "id": "ZMth3dk6B7tG",
        "colab": {
          "base_uri": "https://localhost:8080/"
        },
        "outputId": "a5652667-67ae-405e-b53c-f612706fdd9f"
      },
      "source": [
        "print(\"Média dos IMCs: \",matriz[:,2].mean())\n",
        "print(\"Desvio padrão dos IMCs: \",matriz[:,2].std())\n",
        "print(\"Mediana dos IMCs: \",np.median(matriz[:,2]))"
      ],
      "execution_count": null,
      "outputs": [
        {
          "output_type": "stream",
          "text": [
            "Média dos IMCs:  22.666666666666668\n",
            "Desvio padrão dos IMCs:  2.981423969999719\n",
            "Mediana dos IMCs:  21.5\n"
          ],
          "name": "stdout"
        }
      ]
    },
    {
      "cell_type": "markdown",
      "metadata": {
        "id": "1a_TuuI6QDWa"
      },
      "source": [
        "05 - Realize o mesmo procedimento com a biblioteca Statistics\n"
      ]
    },
    {
      "cell_type": "code",
      "metadata": {
        "id": "bDRjlddZCF5h"
      },
      "source": [
        "import statistics as st"
      ],
      "execution_count": null,
      "outputs": []
    },
    {
      "cell_type": "code",
      "metadata": {
        "id": "y64mwLBVhN1L",
        "colab": {
          "base_uri": "https://localhost:8080/"
        },
        "outputId": "14526162-46ba-4749-ea9b-9a939ef8780b"
      },
      "source": [
        "print(\"Média das alturas: \",st.mean(matriz[:,0]))\n",
        "print(\"Desvio padrão das alturas: \",st.stdev(matriz[:,0]))\n",
        "print(\"Mediana das alturas: \",st.median(matriz[:,0]))"
      ],
      "execution_count": null,
      "outputs": [
        {
          "output_type": "stream",
          "text": [
            "Média das alturas:  1.69\n",
            "Desvio padrão das alturas:  0.20228692493584446\n",
            "Mediana das alturas:  1.56\n"
          ],
          "name": "stdout"
        }
      ]
    },
    {
      "cell_type": "code",
      "metadata": {
        "id": "J2vyT_NdCAhT",
        "colab": {
          "base_uri": "https://localhost:8080/"
        },
        "outputId": "afc82c0d-02e0-41fd-fba8-556637fec887"
      },
      "source": [
        "print(\"Média dos pesos: \",st.mean(matriz[:,1]))\n",
        "print(\"Desvio padrão dos pesos: \",st.stdev(matriz[:,1]))\n",
        "print(\"Mediana dos pesos: \",st.median(matriz[:,1]))"
      ],
      "execution_count": null,
      "outputs": [
        {
          "output_type": "stream",
          "text": [
            "Média dos pesos:  64.83333333333333\n",
            "Desvio padrão dos pesos:  11.805366011550285\n",
            "Mediana dos pesos:  64.5\n"
          ],
          "name": "stdout"
        }
      ]
    },
    {
      "cell_type": "code",
      "metadata": {
        "id": "QXDM1ly4CAjo",
        "colab": {
          "base_uri": "https://localhost:8080/"
        },
        "outputId": "4541c89a-7ce9-44ed-a076-9c20919a2b28"
      },
      "source": [
        "print(\"Média dos IMCs: \",st.mean(matriz[:,2]))\n",
        "print(\"Desvio padrão dos IMCs: \",st.stdev(matriz[:,2]))\n",
        "print(\"Mediana dos IMCs: \",st.median(matriz[:,2]))"
      ],
      "execution_count": null,
      "outputs": [
        {
          "output_type": "stream",
          "text": [
            "Média dos IMCs:  22.666666666666668\n",
            "Desvio padrão dos IMCs:  3.265986323710904\n",
            "Mediana dos IMCs:  21.5\n"
          ],
          "name": "stdout"
        }
      ]
    },
    {
      "cell_type": "markdown",
      "metadata": {
        "id": "Lm1tOKThnU42"
      },
      "source": [
        "Exercícios adaptados de Python Brasil"
      ]
    }
  ]
}