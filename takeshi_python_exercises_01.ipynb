{
  "nbformat": 4,
  "nbformat_minor": 0,
  "metadata": {
    "colab": {
      "name": "takeshi_python_exercises_01.ipynb",
      "provenance": [],
      "collapsed_sections": [],
      "include_colab_link": true
    },
    "kernelspec": {
      "name": "python3",
      "display_name": "Python 3"
    }
  },
  "cells": [
    {
      "cell_type": "markdown",
      "metadata": {
        "id": "view-in-github",
        "colab_type": "text"
      },
      "source": [
        "<a href=\"https://colab.research.google.com/github/tiagotakeshi/br-python-condensed/blob/main/takeshi_python_exercises_01.ipynb\" target=\"_parent\"><img src=\"https://colab.research.google.com/assets/colab-badge.svg\" alt=\"Open In Colab\"/></a>"
      ]
    },
    {
      "cell_type": "markdown",
      "metadata": {
        "id": "8YqaSZgXYJ5g"
      },
      "source": [
        "![](https://i.imgur.com/YX6UATs.png)\n"
      ]
    },
    {
      "cell_type": "markdown",
      "metadata": {
        "id": "hhUVzDipaGb9"
      },
      "source": [
        "### **Exercícios de Python - 1** \n",
        "\n",
        "\n",
        "\n"
      ]
    },
    {
      "cell_type": "markdown",
      "metadata": {
        "id": "qMGp-h8OaGqr"
      },
      "source": [
        "1 - Faça um programa, com uma função que necessite de três argumentos, e que forneça a soma desses três argumentos."
      ]
    },
    {
      "cell_type": "code",
      "metadata": {
        "id": "kTg-D89NdCld",
        "colab": {
          "base_uri": "https://localhost:8080/"
        },
        "outputId": "314f8c7e-ee51-44b2-91dd-37dd1d934505"
      },
      "source": [
        "arg1 = input('Informe o primeiro argumento da soma:')\n",
        "arg2 = input('Informe o segundo argumento da soma:')\n",
        "arg3 = input('Informe o terceiro argumento da soma:')\n",
        "print(soma_arguments(arg1, arg2, arg3))2\n",
        "    \n",
        "\n",
        "def soma_arguments(a1,a2,a3):\n",
        "  soma = a1 + a2 + a3\n",
        "  return soma\n"
      ],
      "execution_count": null,
      "outputs": [
        {
          "output_type": "stream",
          "text": [
            "Informe o primeiro argumento da soma:50\n",
            "Informe o segundo argumento da soma:0\n",
            "Informe o terceiro argumento da soma:30\n",
            "50030\n"
          ],
          "name": "stdout"
        }
      ]
    },
    {
      "cell_type": "markdown",
      "metadata": {
        "id": "KdLXZftIaG60"
      },
      "source": [
        "2 - Faça um Programa que peça a temperatura em graus Celsius, transforme e mostre em graus Fahrenheit. \\\n",
        "*Dica: procure a fórmula para essa conversão na internet*"
      ]
    },
    {
      "cell_type": "code",
      "metadata": {
        "id": "MNINJ32eU45M",
        "colab": {
          "base_uri": "https://localhost:8080/"
        },
        "outputId": "e1302f24-799c-4acf-a783-2f68933489a9"
      },
      "source": [
        "grauC = float(input('Informe a temperatura em graus Celsius: '))\n",
        "grauF = (grauC*9/5) + 32\n",
        "print(f'A temperatura informada em Fahrenheit é de {grauF}')"
      ],
      "execution_count": null,
      "outputs": [
        {
          "output_type": "stream",
          "text": [
            "Informe a temperatura em graus Celsius: 100\n",
            "A temperatura informada em Fahrenheit é de 212.0\n"
          ],
          "name": "stdout"
        }
      ]
    },
    {
      "cell_type": "markdown",
      "metadata": {
        "id": "4OETBVgmaGzX"
      },
      "source": [
        "3 - Faça um Programa que peça um número inteiro e determine se ele é par ou impar. Dica: utilize o operador módulo (resto da divisão)."
      ]
    },
    {
      "cell_type": "code",
      "metadata": {
        "id": "WbzCimFZVSr1",
        "colab": {
          "base_uri": "https://localhost:8080/"
        },
        "outputId": "6b1aa56d-4773-499e-e13f-b8e2ef204a13"
      },
      "source": [
        "num = int(input('Informe o número para verificação: '))\n",
        "if num%2 == 0:\n",
        "  print('O número é par.')\n",
        "else:\n",
        "  print('O número é impar')"
      ],
      "execution_count": null,
      "outputs": [
        {
          "output_type": "stream",
          "text": [
            "Informe o número para verificação: 456789\n",
            "O número é impar\n"
          ],
          "name": "stdout"
        }
      ]
    },
    {
      "cell_type": "markdown",
      "metadata": {
        "id": "7zPJ8sgPaGw0"
      },
      "source": [
        "4 - Faça um programa que peça o tamanho de um arquivo para download (em MB) e a velocidade de um link de Internet (em Mbps), calcule e informe o tempo aproximado de download do arquivo usando este link (em minutos)."
      ]
    },
    {
      "cell_type": "code",
      "metadata": {
        "id": "l4qtSxU7XquB",
        "colab": {
          "base_uri": "https://localhost:8080/"
        },
        "outputId": "a7b0df80-799d-4f29-98fe-ab775a65a252"
      },
      "source": [
        "def calc(t, v):\n",
        "  temp = round((t/v) /60, 2)\n",
        "  return temp\n",
        "\n",
        "tam = float(input('Informe o tamanho do arquivo (MB): '))\n",
        "vel = float(input('Informe a velocidade de internet (Mbps): '))\n",
        "print(f'O tempo para download do arquivo é de {calc(tam, vel)} minutos')\n",
        "\n"
      ],
      "execution_count": null,
      "outputs": [
        {
          "output_type": "stream",
          "text": [
            "Informe o tamanho do arquivo (MB): 1200\n",
            "Informe a velocidade de internet (Mbps): 10\n",
            "O tempo para download do arquivo é de 2.0 minutos1\n"
          ],
          "name": "stdout"
        }
      ]
    },
    {
      "cell_type": "markdown",
      "metadata": {
        "id": "0tkhm6EUaG1u"
      },
      "source": [
        "5 - Faça um programa para a leitura de duas notas parciais de um aluno. O programa deve calcular a média alcançada por aluno e apresentar:\n",
        "- A mensagem \"Aprovado\", se a média alcançada for maior ou igual a sete;\n",
        "- A mensagem \"Reprovado\", se a média for menor do que sete;\n",
        "- A mensagem \"Aprovado com Distinção\", se a média for igual a dez."
      ]
    },
    {
      "cell_type": "code",
      "metadata": {
        "id": "990mQ6UhdwKl",
        "colab": {
          "base_uri": "https://localhost:8080/"
        },
        "outputId": "690f336d-26a7-4d90-ae88-c572281bab44"
      },
      "source": [
        "def cond(n1, n2):\n",
        "  med = round((n1 + n2)/2, 2)\n",
        "  if med >= 7:\n",
        "    if med == 10:\n",
        "      return 'Aprovado com Distinção'\n",
        "    else:\n",
        "      return 'Aprovado'\n",
        "  else:\n",
        "    return 'Reprovado'\n",
        "\n",
        "nota1 = float(input('Informe a primeira nota: '))\n",
        "nota2 = float(input('Informe a segunda nota: '))\n",
        "print(f'O aluno está {cond(nota1, nota2)}')\n"
      ],
      "execution_count": null,
      "outputs": [
        {
          "output_type": "stream",
          "text": [
            "Informe a primeira nota: 9\n",
            "Informe a segunda nota: 7\n",
            "O aluno está Aprovado\n"
          ],
          "name": "stdout"
        }
      ]
    },
    {
      "cell_type": "markdown",
      "metadata": {
        "id": "Lm1tOKThnU42"
      },
      "source": [
        "Exercícios adaptados de Python Brasil"
      ]
    }
  ]
}